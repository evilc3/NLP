{
 "cells": [
  {
   "cell_type": "markdown",
   "metadata": {},
   "source": [
    "<h1><b>Reading Email From Gmail</b></h1>"
   ]
  },
  {
   "cell_type": "markdown",
   "metadata": {},
   "source": [
    "<h3> Requirments </h3>\n",
    "You need three things to login to Gmail using Python. You’ll need a mail server, a username and password. In this case, since we are trying to login to Gmail, our mail server would be either imap.gmail.com or smtp.gmail.com. If you are trying to read the incoming mail your incoming mail server would be imap.gmail.com and if you are trying to send mail then your outgoing mail server would be smtp.gmail.com. Hence, our mail server is imap.google.com. Username and password are your gmail username and password. Let’s start by writing some code"
   ]
  },
  {
   "cell_type": "code",
   "execution_count": 1,
   "metadata": {},
   "outputs": [
    {
     "data": {
      "text/plain": [
       "('clivefernandes20@gmail.com', 'clive999o9')"
      ]
     },
     "execution_count": 1,
     "metadata": {},
     "output_type": "execute_result"
    }
   ],
   "source": [
    "import imaplib\n",
    "import email\n",
    "org_email = '@gmail.com'\n",
    "from_email = 'clivefernandes20'+org_email\n",
    "from_pwd = 'clive999o9'\n",
    "\n",
    "smtp_server = 'imap.gmail.com'\n",
    "smtp_port = 993\n",
    "\n",
    "from_email,from_pwd"
   ]
  },
  {
   "cell_type": "code",
   "execution_count": 2,
   "metadata": {},
   "outputs": [
    {
     "data": {
      "text/plain": [
       "('OK', [b'clivefernandes20@gmail.com authenticated (Success)'])"
      ]
     },
     "execution_count": 2,
     "metadata": {},
     "output_type": "execute_result"
    }
   ],
   "source": [
    "mail = imaplib.IMAP4_SSL(smtp_server)\n",
    "mail.login(from_email,from_pwd)"
   ]
  },
  {
   "cell_type": "code",
   "execution_count": 3,
   "metadata": {},
   "outputs": [
    {
     "data": {
      "text/plain": [
       "('OK', [b'5903'])"
      ]
     },
     "execution_count": 3,
     "metadata": {},
     "output_type": "execute_result"
    }
   ],
   "source": [
    "mail.select?\n",
    "mail.select('inbox')\n"
   ]
  },
  {
   "cell_type": "code",
   "execution_count": 4,
   "metadata": {},
   "outputs": [],
   "source": [
    "t,data = mail.search(None,'ALL')"
   ]
  },
  {
   "cell_type": "code",
   "execution_count": 5,
   "metadata": {},
   "outputs": [],
   "source": [
    "id_list = data[0].split()"
   ]
  },
  {
   "cell_type": "code",
   "execution_count": 6,
   "metadata": {},
   "outputs": [
    {
     "data": {
      "text/plain": [
       "(1, 5903)"
      ]
     },
     "execution_count": 6,
     "metadata": {},
     "output_type": "execute_result"
    }
   ],
   "source": [
    "\n",
    "first_email_id = int(id_list[0])\n",
    "latest_email_id = int(id_list[-1])\n",
    "first_email_id,latest_email_id"
   ]
  },
  {
   "cell_type": "code",
   "execution_count": 7,
   "metadata": {},
   "outputs": [
    {
     "name": "stdout",
     "output_type": "stream",
     "text": [
      "msg id: 100\n",
      "from: \"Flipkart\" <mail@flipkartletters.com>\n",
      "subject: Your Time Table for a Rocking Children's Day!\n",
      "to: \"clivefernandes20@gmail.com\" <clivefernandes20@gmail.com>\n",
      "msg id: 101\n",
      "from: \"Flipkart\" <mail@flipkartletters.com>\n",
      "subject: Look Glamorous this wedding season |  Choose from 30000+ Products\n",
      "to: \"clivefernandes20@gmail.com\" <clivefernandes20@gmail.com>\n",
      "msg id: 102\n",
      "from: \"Flipkart\" <mail@flipkartletters.com>\n",
      "subject: Wedding Specials | Are you Band, Baaja, Baraat ready? \n",
      "to: \"clivefernandes20@gmail.com\" <clivefernandes20@gmail.com>\n",
      "msg id: 103\n",
      "from: Flipkart <promotions@flipkartmail.com>\n",
      "subject: Look What is Trending in Laptops?\n",
      "to: \"clivefernandes20@gmail.com\" <clivefernandes20@gmail.com>\n",
      "msg id: 104\n",
      "from: YouTube <noreply@youtube.com>\n",
      "subject: MW Technology: \"Alienware Steam Machine - Full In-Depth Review\" and\n",
      " more videos\n",
      "to: Clive Fernandea <clivefernandes20@gmail.com>\n"
     ]
    }
   ],
   "source": [
    "#accessing 4 messages \n",
    "\n",
    "for i in range(100,105):\n",
    "    typ, data = mail.fetch(id_list[i], '(RFC822)' ) # i is the email id\n",
    "    \n",
    "    msg = email.message_from_bytes(data[0][1])\n",
    "    \n",
    "    print('msg id:',i)\n",
    "    print('from:',msg['from'])\n",
    "    print('subject:',msg['subject'])\n",
    "    print('to:',msg['to'])\n",
    "    "
   ]
  },
  {
   "cell_type": "code",
   "execution_count": 10,
   "metadata": {},
   "outputs": [
    {
     "name": "stdout",
     "output_type": "stream",
     "text": [
      "total time taken 49.964226484298706\n"
     ]
    }
   ],
   "source": [
    "#creting a file containing from , subject,to fields\n",
    "\n",
    "#{'from':x,'subject','y'}\n",
    "\n",
    "import time\n",
    "\n",
    "subjects = dict()\n",
    "\n",
    "a  = list()\n",
    "\n",
    "s = time.time()\n",
    "for i in range(100):\n",
    "    typ, data = mail.fetch(id_list[i], '(RFC822)' ) # i is the email id\n",
    "    \n",
    "    msg = email.message_from_bytes(data[0][1])\n",
    "    \n",
    "    a.append(msg['subject'])\n",
    "    \n",
    "#     print('msg id:',i)\n",
    "#     print('from:',msg['from'])\n",
    "#     print('subject:',msg['subject'])\n",
    "#     print('to:',msg['to'])\n",
    "    \n",
    "print('total time taken',time.time() - s)\n",
    "\n",
    "\n"
   ]
  },
  {
   "cell_type": "code",
   "execution_count": 22,
   "metadata": {},
   "outputs": [
    {
     "data": {
      "text/plain": [
       "array(['An important notice about your new Google+ account',\n",
       "       'Getting started on Google+', 'Welcome to Mobage!',\n",
       "       'Top posts this week on Google+', 'Add a profile photo',\n",
       "       'Top posts this week on Google+', 'Add a profile photo',\n",
       "       'Top posts this week on Google+', 'Top posts this week on Google+',\n",
       "       'Add a profile photo', 'Top posts this week on Google+',\n",
       "       'Welcome to YouTube!', 'Top suggested Google+ Pages for you',\n",
       "       '=?EUC-KR?B?VGhlIG5ldyBHYWxheHkg?=\\r\\n =?EUC-KR?B?UzYgaXMgaGVyZS4gUHJl?=\\r\\n =?EUC-KR?B?LUJvb2sgbm93IHRvIGF2?=\\r\\n =?EUC-KR?B?YWlsIHNwZWNpYWwgcHJp?=\\r\\n =?EUC-KR?B?dmlsZWdlcw==?=',\n",
       "       'TechSmartt: \"HTC One M9 Water Test - Water Resistant Again?!\" and\\r\\n more videos',\n",
       "       'Get Outlook.com on your mobile device', 'Welcome to Windows',\n",
       "       'Next up: Windows apps', 'Next up: Basic Windows moves',\n",
       "       'I Hope Senpai Notices Our New Spring Titles!!',\n",
       "       'TechSmartt: \"Top 5 Tech Under $75!\" and more videos',\n",
       "       'Geekyranjit: \"Galaxy S6 Edge Camera Review with Pics & Video Samples\\r\\n in 4K\" and more videos',\n",
       "       'Geekyranjit: \"#81 Live Tech Q&A Session with Geekyranjit - 21 April\\r\\n 2015\" and more videos',\n",
       "       'Winter Favorites Wrap-Up, Special Screening: Time of Eve: The Movie, and so much more!',\n",
       "       'TechSmartt: \"Top 4 LG G4 Features!\" and more videos',\n",
       "       'Geekyranjit: \"#83 Live Tech Q&A Session with Geekyranjit - 5 May\\r\\n 2015\" and more videos',\n",
       "       '=?utf-8?Q?OnePlus=20Power=20Bank=20launched=20in=20India=21?=',\n",
       "       'Geekyranjit: \"Samsung Galaxy S6 Unboxing & Overview\" and more videos',\n",
       "       'TechSmartt: \"iOS 9 Wishlist!\" and more videos',\n",
       "       'What is the Windows 10 free upgrade offer?',\n",
       "       '=?UTF-8?B?TmV3IHRvIFNreXBlPyBIZXJl4oCZcyBob3cgdG8gZ2V0IHN0YXJ0ZWQ=?=',\n",
       "       'Top suggested Google+ Pages for you',\n",
       "       \"However you like to stay in touch, it's your call\",\n",
       "       'New in Google+ mobile: Full-size photo backups',\n",
       "       'Say hi for no reason at all',\n",
       "       'TechSmartt: \"Secret Apple Watch Port?!\" and more videos',\n",
       "       'Hooray for group calling!',\n",
       "       'TechSmartt: \"iPhone 6 Plus Antenna Scam?!\" and more videos',\n",
       "       '=?utf-8?Q?Up=20for=20a=20fight=3F=20=F0=9F=92=AA=C2=A0Help=20us=20take=20back=20#NeverSettle=21?=',\n",
       "       'Take Skype with you wherever you go',\n",
       "       'thenewboston: \"Computer Networking Tutorial - 36 - Using FileZilla\\r\\n with SFTP\" and more videos',\n",
       "       'thenewboston: \"Bootstrap Tutorial for Beginners - 9 - Wells and Alert\\r\\n Boxes\" and more videos',\n",
       "       '=?utf-8?q?Your_opinion_matters_to_Skype_?=',\n",
       "       '=?utf-8?Q?OnePlus=20One=20available=20for=20Rs.=2019=2C998?=',\n",
       "       '=?UTF-8?B?VGhlcmXigJlzIG1vcmUgdG8gU2t5cGUgdGhhbiB5b3UgdGhpbms=?=',\n",
       "       'Share on your computer, too',\n",
       "       'Pokemon India: \"Suicune Where did you go? :/ | Pokemon Star Drop #3\"\\r\\n and more videos',\n",
       "       '=?utf-8?q?Reminder_=E2=80=93_Skype_survey_still_open_?=',\n",
       "       '=?UTF-8?B?SW1wb3J0YW50IOKAkyBuZXcgTWljcm9zb2Z0IFNlcnZpY2VzIEFn?= =?UTF-8?B?cmVlbWVudCAmIFByaXZhY3kgU3RhdGVtZW50IGZvciBTa3lwZQ==?=',\n",
       "       \"Clive, here's what you missed from Mazaku on Google+\",\n",
       "       'Catch up with friends on a bigger screen',\n",
       "       '=?utf-8?q?Reminder_=E2=80=93_Skype_survey_still_open_?=',\n",
       "       'Top suggested Google+ Pages for you',\n",
       "       '=?UTF-8?B?SW1wb3J0YW50IOKAkyBuZXcgTWljcm9zb2Z0IFNlcnZpY2VzIEFn?= =?UTF-8?B?cmVlbWVudCAmIFByaXZhY3kgU3RhdGVtZW50IGZvciBTa3lwZQ==?=',\n",
       "       'TechSmartt: \"DIY Custom Apple Watch Wars!\" and more videos',\n",
       "       'TechSmartt: \"Must Have Summer Tech!\" and more videos',\n",
       "       'Top suggested Google+ Pages for you',\n",
       "       'TechSmartt: \"The Best Smartwatch?!\" and more videos',\n",
       "       '=?utf-8?Q?OnePlus=20Cardboard=3A=20Everyone=20is=20invited=21?=',\n",
       "       'Max Entertainment: \"Doraemon Episodes In Hindi 2015 - Dream Of Nobita\\r\\n and Doraemon\" and more videos',\n",
       "       'TechSmartt: \"iPhone 6S Wishlist!?\" and more videos',\n",
       "       'Top suggested Google+ Pages for you',\n",
       "       'TechSmartt: \"Best Travel Tech and More!\" and more videos',\n",
       "       '=?utf-8?Q?The=20wait=20is=20over=21=20OnePlus=202=20Sale=20begins=20today=20at=204=20PM?=',\n",
       "       'TechSmartt: \"Best Cheap Smartphone Ever?!\" and more videos',\n",
       "       'Top suggested Google+ Pages for you',\n",
       "       'TechSmartt: \"Best Back To School Laptops!\" and more videos',\n",
       "       'TechSmartt: \"I tried Virtual Reality...and OMG!\" and more videos',\n",
       "       'thenewboston: \"WiFi Wireless Security Tutorial - 13 - Hydra for\\r\\n Router Login\" and more videos',\n",
       "       'Top suggested Google+ Pages for you',\n",
       "       'Tech Trinkets: \"Moto X Play - Review after 2 Weeks!\" and more videos',\n",
       "       'Tech Trinkets: \"Xiaomi Redmi Note 2 32gb - Unboxing!\" and more videos',\n",
       "       'TechSmartt: \"I waited a week to buy the iPhone 6S\" and more videos',\n",
       "       '=?UTF-8?Q?Get_the_best_Windows_ever_=E2=80=93_for_free?=',\n",
       "       'Don Does 30: \"Hack an Android Phone or Device: Part 2 - Decompile,\\r\\n Configure, and...\" and more videos',\n",
       "       'XEETECHCARE: \"Nexus 6 vs Nexus 5 Android 6.0 Marshmallow Benchmark\\r\\n Comparison Test\" and more videos',\n",
       "       'Tech Trinkets: \"Nexus 5X Camera put to the Test!\" and more videos',\n",
       "       'XEETECHCARE: \"Sony Xperia C5 Ultra - CAMERA STOPPED WORKING after\\r\\n update\" and more videos',\n",
       "       'Get your home Diwali ready!',\n",
       "       '=?utf-8?Q?The=20OnePlus=20X=20has=20officially=20arrived?=',\n",
       "       'OnePlus X: Get an Invite to Shop', 'Fashion Sale: Up to 60% off',\n",
       "       'SuperDeals | Electronic Accessories Starting from Rs.29 onwards',\n",
       "       'Geekyranjit: \"#105 Live Tech Q&A Session with Geekyranjit - 3 Nov\\r\\n 2015\" and more videos',\n",
       "       'Bought with \"JBL T150 A In ear Earphones (Black)\"',\n",
       "       'Brand Alert | Up To 50% OFF on UCB, PUMA, Fastrack, Vero Moda and Other Top Brands',\n",
       "       'Savings on the house.',\n",
       "       'Claim Your Coupons from ErosNow, Goibibo & Ola Cabs.',\n",
       "       'Are you still looking for Laptops?',\n",
       "       'Get Rs.1000 Amazon.in Gift Card on purchase of Rs.10000 from\\r\\n Precious Jewellery',\n",
       "       'Diwali Sale! Enjoy gifting and shopping',\n",
       "       'Dhanteras Sale: 8th & 9th Nov',\n",
       "       'Diwali special! 20 delights for you',\n",
       "       'Last Day to Grab the Festive Offers',\n",
       "       'Geekyranjit: \"Moto X Style Gaming Review with Temp Check\" and more videos',\n",
       "       'Deepavali Wishes from Flipkart!',\n",
       "       'Love, Lights, Laughter: Wish You a very Happy Diwali!',\n",
       "       'Make the celebrations bigger - 24 Hours Only!',\n",
       "       'Your favourite things at just HALF the price',\n",
       "       'This Bhai Dooj, celebrate the joy of having a sibling'],\n",
       "      dtype='<U169')"
      ]
     },
     "execution_count": 22,
     "metadata": {},
     "output_type": "execute_result"
    }
   ],
   "source": [
    "len(a)\n",
    "import numpy as np\n",
    "\n",
    "d = np.array(a)\n",
    "\n",
    "d"
   ]
  },
  {
   "cell_type": "code",
   "execution_count": 38,
   "metadata": {},
   "outputs": [
    {
     "name": "stdout",
     "output_type": "stream",
     "text": [
      "loading model\n"
     ]
    }
   ],
   "source": [
    "print('loading model')\n",
    "\n",
    "import pickle\n",
    "clf = pickle.loads(open('spam_filter_model_1.pickle','rb').read())\n",
    "vectorizer = pickle.loads(open('vect.pickle','rb').read())"
   ]
  },
  {
   "cell_type": "code",
   "execution_count": 40,
   "metadata": {},
   "outputs": [
    {
     "data": {
      "text/plain": [
       "(100, 7597)"
      ]
     },
     "execution_count": 40,
     "metadata": {},
     "output_type": "execute_result"
    }
   ],
   "source": [
    "\n",
    "X = vectorizer.transform(d)\n",
    "\n",
    "X.shape\n"
   ]
  },
  {
   "cell_type": "code",
   "execution_count": 49,
   "metadata": {},
   "outputs": [],
   "source": [
    "pred = clf.predict(X)\n"
   ]
  },
  {
   "cell_type": "code",
   "execution_count": 62,
   "metadata": {},
   "outputs": [
    {
     "data": {
      "text/plain": [
       "array(['Welcome to Mobage!', 'Top posts this week on Google+',\n",
       "       'Top posts this week on Google+', 'Top posts this week on Google+',\n",
       "       'Top posts this week on Google+', 'Top posts this week on Google+',\n",
       "       'Welcome to YouTube!', 'Get Outlook.com on your mobile device',\n",
       "       'I Hope Senpai Notices Our New Spring Titles!!',\n",
       "       'TechSmartt: \"Top 5 Tech Under $75!\" and more videos',\n",
       "       'Geekyranjit: \"Galaxy S6 Edge Camera Review with Pics & Video Samples\\r\\n in 4K\" and more videos',\n",
       "       'Geekyranjit: \"#81 Live Tech Q&A Session with Geekyranjit - 21 April\\r\\n 2015\" and more videos',\n",
       "       'TechSmartt: \"Top 4 LG G4 Features!\" and more videos',\n",
       "       'What is the Windows 10 free upgrade offer?',\n",
       "       '=?utf-8?Q?Up=20for=20a=20fight=3F=20=F0=9F=92=AA=C2=A0Help=20us=20take=20back=20#NeverSettle=21?=',\n",
       "       'thenewboston: \"Bootstrap Tutorial for Beginners - 9 - Wells and Alert\\r\\n Boxes\" and more videos',\n",
       "       'TechSmartt: \"I tried Virtual Reality...and OMG!\" and more videos',\n",
       "       'thenewboston: \"WiFi Wireless Security Tutorial - 13 - Hydra for\\r\\n Router Login\" and more videos',\n",
       "       'Tech Trinkets: \"Moto X Play - Review after 2 Weeks!\" and more videos',\n",
       "       'XEETECHCARE: \"Sony Xperia C5 Ultra - CAMERA STOPPED WORKING after\\r\\n update\" and more videos',\n",
       "       'SuperDeals | Electronic Accessories Starting from Rs.29 onwards',\n",
       "       'Geekyranjit: \"#105 Live Tech Q&A Session with Geekyranjit - 3 Nov\\r\\n 2015\" and more videos',\n",
       "       'Brand Alert | Up To 50% OFF on UCB, PUMA, Fastrack, Vero Moda and Other Top Brands',\n",
       "       'Claim Your Coupons from ErosNow, Goibibo & Ola Cabs.',\n",
       "       'Get Rs.1000 Amazon.in Gift Card on purchase of Rs.10000 from\\r\\n Precious Jewellery'],\n",
       "      dtype='<U169')"
      ]
     },
     "execution_count": 62,
     "metadata": {},
     "output_type": "execute_result"
    }
   ],
   "source": [
    "d[np.where(pred == 'spam')]"
   ]
  },
  {
   "cell_type": "code",
   "execution_count": 61,
   "metadata": {},
   "outputs": [],
   "source": []
  }
 ],
 "metadata": {
  "kernelspec": {
   "display_name": "Python 3",
   "language": "python",
   "name": "python3"
  },
  "language_info": {
   "codemirror_mode": {
    "name": "ipython",
    "version": 3
   },
   "file_extension": ".py",
   "mimetype": "text/x-python",
   "name": "python",
   "nbconvert_exporter": "python",
   "pygments_lexer": "ipython3",
   "version": "3.6.7"
  }
 },
 "nbformat": 4,
 "nbformat_minor": 2
}
