{
 "cells": [
  {
   "cell_type": "markdown",
   "metadata": {},
   "source": [
    "<h2><b>RNN From Keras</b></h2> "
   ]
  },
  {
   "cell_type": "markdown",
   "metadata": {},
   "source": [
    "Different RNN TYPES \n",
    "\n",
    "1. keras.layers.RNN\n",
    "   keras.layers.RNN(cell, return_sequences=False,      return_state=False, go_backwards=False..)\n",
    "   \n",
    "\n",
    "2. keras.layers.SimpleRNN\n",
    "   keras.layers.SimpleRNN(units, activation='tanh',    use_bias=True,...)\n",
    "   \n",
    "   --> Fully-connected RNN where the output is to be fed back to input.\n",
    "   \n",
    "   \n",
    "3. GRU    \n",
    "   keras.layers.GRU(units, activation='tanh', recurrent_activation='hard_sigmoid', use_bias=True)\n",
    "   \n",
    "4.LSTM\n",
    "\n",
    "5.ConvLSTM2D\n",
    "  keras.layers.ConvLSTM2D(filters, kernel_size, strides=(1, 1),        padding='valid'dilation_rate=(1, 1), activation='tanh', recurrent_activation='hard_sigmoid', use_bias=True..)\n",
    "  \n",
    "  Convolutional LSTM.\n",
    "\n",
    "It is similar to an LSTM layer, but the input transformations and recurrent transformations are both convolutional.\n",
    "\n",
    "<b>\n",
    "if data_format='channels_first' 5D tensor with shape:  (samples, time, channels, rows, cols)\n",
    "if data_format='channels_last' 5D tensor with shape:  (samples, time, rows, cols, channels)\n",
    "  </b>\n",
    "  <i><b>\n",
    " if return_sequences\n",
    "if data_format='channels_first' 5D tensor with shape:  (samples, time, filters, output_row, output_col)\n",
    "if data_format='channels_last' 5D tensor with shape:  (samples, time, output_row, output_col, filters)\n",
    "else\n",
    "\n",
    "if data_format='channels_first' 4D tensor with shape:  (samples, filters, output_row, output_col)\n",
    "if data_format='channels_last' 4D tensor with shape:  (samples, output_row, output_col, filters) \n",
    "</b></i>  \n",
    "\n",
    "6. Cells    \n",
    "\n",
    "\n"
   ]
  },
  {
   "cell_type": "code",
   "execution_count": null,
   "metadata": {},
   "outputs": [],
   "source": []
  },
  {
   "cell_type": "code",
   "execution_count": null,
   "metadata": {},
   "outputs": [],
   "source": []
  }
 ],
 "metadata": {
  "kernelspec": {
   "display_name": "Python 3",
   "language": "python",
   "name": "python3"
  },
  "language_info": {
   "codemirror_mode": {
    "name": "ipython",
    "version": 3
   },
   "file_extension": ".py",
   "mimetype": "text/x-python",
   "name": "python",
   "nbconvert_exporter": "python",
   "pygments_lexer": "ipython3",
   "version": "3.6.7"
  }
 },
 "nbformat": 4,
 "nbformat_minor": 2
}
