{
 "cells": [
  {
   "cell_type": "code",
   "execution_count": 0,
   "metadata": {
    "colab": {},
    "colab_type": "code",
    "id": "LFDQhqAs2Jxz"
   },
   "outputs": [],
   "source": [
    "# # Let's make sure the kaggle.json file is present.\n",
    "# !ls -lha kaggle.json\n",
    "# # Next, install the Kaggle API client.\n",
    "# !pip install -q kaggle\n",
    "# # The Kaggle API client expects this file to be in ~/.kaggle,\n",
    "# # so move it there.\n",
    "# !mkdir -p ~/.kaggle\n",
    "# !cp kaggle.json ~/.kaggle/\n",
    "\n",
    "# # This permissions change avoids a warning on Kaggle tool startup.\n",
    "# !chmod 600 ~/.kaggle/kaggle.json\n",
    "# # List available datasets.\n",
    "# !kaggle datasets list\n",
    "# # Copy the stackoverflow data set locally.\n",
    "# !kaggle datasets download -d  news-headlines-dataset-for-sarcasm-detection\n",
    "# # !unzip /content/barcelona-data-sets.zip"
   ]
  },
  {
   "cell_type": "code",
   "execution_count": 0,
   "metadata": {
    "colab": {},
    "colab_type": "code",
    "id": "9Q11irB6BiSS"
   },
   "outputs": [],
   "source": [
    "import tensorflow_hub as hub\n",
    "import tensorflow as tf\n",
    "import tensorflow_hub as hub\n",
    "import pandas as pd\n",
    "import numpy as np"
   ]
  },
  {
   "cell_type": "markdown",
   "metadata": {
    "colab_type": "text",
    "id": "9fgKCnIyCD92"
   },
   "source": [
    "#Visualising Data"
   ]
  },
  {
   "cell_type": "code",
   "execution_count": 0,
   "metadata": {
    "colab": {
     "base_uri": "https://localhost:8080/",
     "height": 51
    },
    "colab_type": "code",
    "id": "xCF1OLH3Bh-b",
    "outputId": "c289e86b-958d-4c3e-fc52-da79fb45f0cc"
   },
   "outputs": [
    {
     "name": "stdout",
     "output_type": "stream",
     "text": [
      "Archive:  /content/news-headlines-dataset-for-sarcasm-detection.zip\n",
      "  inflating: Sarcasm_Headlines_Dataset.json  \n"
     ]
    }
   ],
   "source": [
    "!unzip /content/news-headlines-dataset-for-sarcasm-detection.zip"
   ]
  },
  {
   "cell_type": "code",
   "execution_count": 0,
   "metadata": {
    "colab": {
     "base_uri": "https://localhost:8080/",
     "height": 204
    },
    "colab_type": "code",
    "id": "WFe9ofh6CQ08",
    "outputId": "d083cf7c-2e25-4824-aee5-a1cce4da130b"
   },
   "outputs": [
    {
     "data": {
      "text/html": [
       "<div>\n",
       "<style scoped>\n",
       "    .dataframe tbody tr th:only-of-type {\n",
       "        vertical-align: middle;\n",
       "    }\n",
       "\n",
       "    .dataframe tbody tr th {\n",
       "        vertical-align: top;\n",
       "    }\n",
       "\n",
       "    .dataframe thead th {\n",
       "        text-align: right;\n",
       "    }\n",
       "</style>\n",
       "<table border=\"1\" class=\"dataframe\">\n",
       "  <thead>\n",
       "    <tr style=\"text-align: right;\">\n",
       "      <th></th>\n",
       "      <th>article_link</th>\n",
       "      <th>headline</th>\n",
       "      <th>is_sarcastic</th>\n",
       "    </tr>\n",
       "  </thead>\n",
       "  <tbody>\n",
       "    <tr>\n",
       "      <th>0</th>\n",
       "      <td>https://www.huffingtonpost.com/entry/versace-b...</td>\n",
       "      <td>former versace store clerk sues over secret 'b...</td>\n",
       "      <td>0</td>\n",
       "    </tr>\n",
       "    <tr>\n",
       "      <th>1</th>\n",
       "      <td>https://www.huffingtonpost.com/entry/roseanne-...</td>\n",
       "      <td>the 'roseanne' revival catches up to our thorn...</td>\n",
       "      <td>0</td>\n",
       "    </tr>\n",
       "    <tr>\n",
       "      <th>2</th>\n",
       "      <td>https://local.theonion.com/mom-starting-to-fea...</td>\n",
       "      <td>mom starting to fear son's web series closest ...</td>\n",
       "      <td>1</td>\n",
       "    </tr>\n",
       "    <tr>\n",
       "      <th>3</th>\n",
       "      <td>https://politics.theonion.com/boehner-just-wan...</td>\n",
       "      <td>boehner just wants wife to listen, not come up...</td>\n",
       "      <td>1</td>\n",
       "    </tr>\n",
       "    <tr>\n",
       "      <th>4</th>\n",
       "      <td>https://www.huffingtonpost.com/entry/jk-rowlin...</td>\n",
       "      <td>j.k. rowling wishes snape happy birthday in th...</td>\n",
       "      <td>0</td>\n",
       "    </tr>\n",
       "  </tbody>\n",
       "</table>\n",
       "</div>"
      ],
      "text/plain": [
       "                                        article_link  \\\n",
       "0  https://www.huffingtonpost.com/entry/versace-b...   \n",
       "1  https://www.huffingtonpost.com/entry/roseanne-...   \n",
       "2  https://local.theonion.com/mom-starting-to-fea...   \n",
       "3  https://politics.theonion.com/boehner-just-wan...   \n",
       "4  https://www.huffingtonpost.com/entry/jk-rowlin...   \n",
       "\n",
       "                                            headline  is_sarcastic  \n",
       "0  former versace store clerk sues over secret 'b...             0  \n",
       "1  the 'roseanne' revival catches up to our thorn...             0  \n",
       "2  mom starting to fear son's web series closest ...             1  \n",
       "3  boehner just wants wife to listen, not come up...             1  \n",
       "4  j.k. rowling wishes snape happy birthday in th...             0  "
      ]
     },
     "execution_count": 4,
     "metadata": {
      "tags": []
     },
     "output_type": "execute_result"
    }
   ],
   "source": [
    "\n",
    "\n",
    "\n",
    "data = pd.read_json('/content/Sarcasm_Headlines_Dataset.json',lines = True)\n",
    "\n",
    "data.head()"
   ]
  },
  {
   "cell_type": "code",
   "execution_count": 0,
   "metadata": {
    "colab": {
     "base_uri": "https://localhost:8080/",
     "height": 34
    },
    "colab_type": "code",
    "id": "WF77j-seCQx9",
    "outputId": "b08dc60b-82b0-430c-fe10-8adb8437c9e5"
   },
   "outputs": [
    {
     "data": {
      "text/plain": [
       "'boehner just wants wife to listen, not come up with alternative debt-reduction ideas'"
      ]
     },
     "execution_count": 5,
     "metadata": {
      "tags": []
     },
     "output_type": "execute_result"
    }
   ],
   "source": [
    "data['headline'][3]"
   ]
  },
  {
   "cell_type": "code",
   "execution_count": 0,
   "metadata": {
    "colab": {
     "base_uri": "https://localhost:8080/",
     "height": 34
    },
    "colab_type": "code",
    "id": "OdQJRtYVCQva",
    "outputId": "02bd1099-9d35-4ab6-d3fa-bd808b107785"
   },
   "outputs": [
    {
     "name": "stdout",
     "output_type": "stream",
     "text": [
      "1 - is sarcastic and 0- not sarcastic\n"
     ]
    }
   ],
   "source": [
    "print('1 - is sarcastic and 0- not sarcastic')"
   ]
  },
  {
   "cell_type": "code",
   "execution_count": 0,
   "metadata": {
    "colab": {
     "base_uri": "https://localhost:8080/",
     "height": 297
    },
    "colab_type": "code",
    "id": "9k1LZWvECQr6",
    "outputId": "1b344da4-e416-448e-ac50-61ff02f34410"
   },
   "outputs": [
    {
     "data": {
      "text/html": [
       "<div>\n",
       "<style scoped>\n",
       "    .dataframe tbody tr th:only-of-type {\n",
       "        vertical-align: middle;\n",
       "    }\n",
       "\n",
       "    .dataframe tbody tr th {\n",
       "        vertical-align: top;\n",
       "    }\n",
       "\n",
       "    .dataframe thead th {\n",
       "        text-align: right;\n",
       "    }\n",
       "</style>\n",
       "<table border=\"1\" class=\"dataframe\">\n",
       "  <thead>\n",
       "    <tr style=\"text-align: right;\">\n",
       "      <th></th>\n",
       "      <th>is_sarcastic</th>\n",
       "    </tr>\n",
       "  </thead>\n",
       "  <tbody>\n",
       "    <tr>\n",
       "      <th>count</th>\n",
       "      <td>26709.000000</td>\n",
       "    </tr>\n",
       "    <tr>\n",
       "      <th>mean</th>\n",
       "      <td>0.438953</td>\n",
       "    </tr>\n",
       "    <tr>\n",
       "      <th>std</th>\n",
       "      <td>0.496269</td>\n",
       "    </tr>\n",
       "    <tr>\n",
       "      <th>min</th>\n",
       "      <td>0.000000</td>\n",
       "    </tr>\n",
       "    <tr>\n",
       "      <th>25%</th>\n",
       "      <td>0.000000</td>\n",
       "    </tr>\n",
       "    <tr>\n",
       "      <th>50%</th>\n",
       "      <td>0.000000</td>\n",
       "    </tr>\n",
       "    <tr>\n",
       "      <th>75%</th>\n",
       "      <td>1.000000</td>\n",
       "    </tr>\n",
       "    <tr>\n",
       "      <th>max</th>\n",
       "      <td>1.000000</td>\n",
       "    </tr>\n",
       "  </tbody>\n",
       "</table>\n",
       "</div>"
      ],
      "text/plain": [
       "       is_sarcastic\n",
       "count  26709.000000\n",
       "mean       0.438953\n",
       "std        0.496269\n",
       "min        0.000000\n",
       "25%        0.000000\n",
       "50%        0.000000\n",
       "75%        1.000000\n",
       "max        1.000000"
      ]
     },
     "execution_count": 21,
     "metadata": {
      "tags": []
     },
     "output_type": "execute_result"
    }
   ],
   "source": [
    "data.describe()"
   ]
  },
  {
   "cell_type": "code",
   "execution_count": 0,
   "metadata": {
    "colab": {
     "base_uri": "https://localhost:8080/",
     "height": 68
    },
    "colab_type": "code",
    "id": "EKAgIKFyCQow",
    "outputId": "f01a6450-a2b9-49d3-8a59-6eeebe2c55a7"
   },
   "outputs": [
    {
     "name": "stdout",
     "output_type": "stream",
     "text": [
      "getting traning and testing data\n",
      "(21367,) 21367.2\n",
      "(5342,) 5341.8\n"
     ]
    }
   ],
   "source": [
    "print('getting traning and testing data')\n",
    "\n",
    "length = data['is_sarcastic'].shape[0]\n",
    "\n",
    "train_data = data['headline'][0:int(length*0.8)].values\n",
    "\n",
    "test_data = data['headline'][int(length*0.8):].values\n",
    "\n",
    "print(train_data.shape , length * 0.8)\n",
    "print(test_data.shape,length * 0.2)\n",
    "\n",
    "train_label = data['is_sarcastic'][0:int(length*0.8)].values\n",
    "test_label = data['is_sarcastic'][int(length * 0.8):].values\n",
    "\n",
    "\n"
   ]
  },
  {
   "cell_type": "code",
   "execution_count": 0,
   "metadata": {
    "colab": {
     "base_uri": "https://localhost:8080/",
     "height": 887
    },
    "colab_type": "code",
    "id": "ansAKB3OE6f4",
    "outputId": "5d500824-0432-4c44-e5dd-bf4a8c3567c9"
   },
   "outputs": [
    {
     "data": {
      "text/plain": [
       "array([\"former versace store clerk sues over secret 'black code' for minority shoppers\",\n",
       "       \"the 'roseanne' revival catches up to our thorny political mood, for better and worse\",\n",
       "       \"mom starting to fear son's web series closest thing she will have to grandchild\",\n",
       "       'boehner just wants wife to listen, not come up with alternative debt-reduction ideas',\n",
       "       'j.k. rowling wishes snape happy birthday in the most magical way',\n",
       "       \"advancing the world's women\",\n",
       "       'the fascinating case for eating lab-grown meat',\n",
       "       'this ceo will send your kids to school, if you work for his company',\n",
       "       'top snake handler leaves sinking huckabee campaign',\n",
       "       \"friday's morning email: inside trump's presser for the ages\",\n",
       "       'airline passengers tackle man who rushes cockpit in bomb threat',\n",
       "       'facebook reportedly working on healthcare features and apps',\n",
       "       \"north korea praises trump and urges us voters to reject 'dull hillary'\",\n",
       "       \"actually, cnn's jeffrey lord has been 'indefensible' for a while\",\n",
       "       'barcelona holds huge protest in support of refugees',\n",
       "       \"nuclear bomb detonates during rehearsal for 'spider-man' musical\",\n",
       "       \"cosby lawyer asks why accusers didn't come forward to be smeared by legal team years ago\",\n",
       "       'stock analysts confused, frightened by boar market',\n",
       "       \"bloomberg's program to build better cities just got bigger\",\n",
       "       'craig hicks indicted',\n",
       "       'courtroom sketch artist has clear manga influences',\n",
       "       'trump assures nation that decision for syrian airstrikes came after carefully considering all his passing whims',\n",
       "       'qatar deporting dutch woman who reported she was drugged and raped',\n",
       "       \"this is why you shouldn't go to the circus\",\n",
       "       \"ted cruz hits the panic button: 'we could lose both houses of congress'\",\n",
       "       'why writers must plan to be surprised',\n",
       "       'obama visits arlington national cemetery to honor veterans',\n",
       "       'ex-con back behind bar',\n",
       "       'after careful consideration, bush recommends oil drilling',\n",
       "       'remembrance is the beginning of the task',\n",
       "       'allies: islamist motive for killing nemtsov is nonsense',\n",
       "       \"gillian jacobs on what it's like to kiss adam brody\",\n",
       "       \"uber vows to repay nyc drivers 'tens of millions' after tax snafu\",\n",
       "       'apple may have poached electric motorcycle company to death',\n",
       "       \"drug-resistant bacteria often lurk in children's, dogs' sandboxes\",\n",
       "       'if you see a muslim at the airport',\n",
       "       'giant altoid heading toward earth',\n",
       "       \"'moana' sails straight to the top of the box office with massive $81.1 million opening\",\n",
       "       'selig counted money while baseball lost the next generation of fans',\n",
       "       'robin williams inflicted on holiday moviegoers for eighth straight year',\n",
       "       \"devin nunes vows to 'never' reveal source of surveillance claims\",\n",
       "       'scott used to stop breathing nearly 40 times an hour. this device changed his life',\n",
       "       'rescuers heroically help beached garbage back into ocean',\n",
       "       \"medics drop soccer player from stretcher; he's ticked\",\n",
       "       'give the gift of play this holiday season',\n",
       "       'christian bale visits sikh temple victims',\n",
       "       'spicer denies that ending maternity care guarantee would mean women pay more for health care',\n",
       "       \"'right to live life in complete, stunned horror,' added to constitution\",\n",
       "       'nasa now almost positive mars is rocky',\n",
       "       'monster undeterred by night-light'], dtype=object)"
      ]
     },
     "execution_count": 9,
     "metadata": {
      "tags": []
     },
     "output_type": "execute_result"
    }
   ],
   "source": [
    "train_data[0:50]"
   ]
  },
  {
   "cell_type": "markdown",
   "metadata": {
    "colab_type": "text",
    "id": "PgVz7V9KE2Q9"
   },
   "source": []
  },
  {
   "cell_type": "markdown",
   "metadata": {
    "colab_type": "text",
    "id": "2zTctrrCE2WV"
   },
   "source": [
    "#Preprocessing Data\n",
    "\n",
    "##TODO:\n",
    "\n",
    "<pre>\n",
    " 2>remove all the pancuations\n",
    "\n",
    " 4>vectorize / embedding\n",
    " </pre>"
   ]
  },
  {
   "cell_type": "code",
   "execution_count": 0,
   "metadata": {
    "colab": {
     "base_uri": "https://localhost:8080/",
     "height": 34
    },
    "colab_type": "code",
    "id": "5YREwMkDG6oW",
    "outputId": "5dbb51f9-d979-40d0-d496-2501766f8fbd"
   },
   "outputs": [
    {
     "name": "stderr",
     "output_type": "stream",
     "text": [
      "Using TensorFlow backend.\n"
     ]
    }
   ],
   "source": [
    "from keras.preprocessing import text"
   ]
  },
  {
   "cell_type": "code",
   "execution_count": 0,
   "metadata": {
    "colab": {
     "base_uri": "https://localhost:8080/",
     "height": 156
    },
    "colab_type": "code",
    "id": "1TFzYrIsCQmG",
    "outputId": "bffe04a9-a6f6-4233-c6b9-76fc022aed07"
   },
   "outputs": [
    {
     "name": "stdout",
     "output_type": "stream",
     "text": [
      "converting words to tokens \n",
      "[\"former versace store clerk sues over secret 'black code' for minority shoppers\"\n",
      " \"the 'roseanne' revival catches up to our thorny political mood, for better and worse\"\n",
      " \"mom starting to fear son's web series closest thing she will have to grandchild\"\n",
      " 'boehner just wants wife to listen, not come up with alternative debt-reduction ideas'\n",
      " 'j.k. rowling wishes snape happy birthday in the most magical way']\n",
      "[['former', 'versace', 'store', 'clerk', 'sues', 'over', 'secret', 'black', 'code', 'for', 'minority', 'shoppers'], ['the', 'roseanne', 'revival', 'catches', 'up', 'to', 'our', 'thorny', 'political', 'mood', 'for', 'better', 'and', 'worse']]\n"
     ]
    }
   ],
   "source": [
    "\n",
    "print('converting words to tokens ')\n",
    "\n",
    "print(train_data[0:5])\n",
    "\n",
    "x = []\n",
    "for i in train_data:\n",
    "  \n",
    "  x.append(text.text_to_word_sequence(i,filters = '\\,\" \\'!.'))\n",
    "\n",
    "print(x[0:2])\n",
    "\n",
    "\n"
   ]
  },
  {
   "cell_type": "code",
   "execution_count": 0,
   "metadata": {
    "colab": {
     "base_uri": "https://localhost:8080/",
     "height": 88
    },
    "colab_type": "code",
    "id": "dShmqcELJM1T",
    "outputId": "e7c78d8b-3ef2-4d72-cace-952f438ffec0"
   },
   "outputs": [
    {
     "name": "stdout",
     "output_type": "stream",
     "text": [
      "finding the padding length\n",
      "39 ['elmore', 'leonard', 'modern', 'prose', 'master', 'noted', 'for', 'his', 'terse', 'prose', 'style', 'and', 'for', 'writing', 'about', 'things', 'perfectly', 'and', 'succinctly', 'with', 'a', 'remarkable', 'economy', 'of', 'words', 'unfortunately', 'and', 'sadly', 'expired', 'this', 'gloomy', 'tuesday', 'at', 'the', 'age', 'of', '87', 'years', 'old']\n",
      "padding\n"
     ]
    }
   ],
   "source": [
    "print('finding the padding length')\n",
    "\n",
    "m = len(x[0])\n",
    "sen = []\n",
    "for i in x[1:]:\n",
    "  \n",
    "  if len(i) > m:\n",
    "      m = len(i) \n",
    "      sen = i \n",
    "    \n",
    "print(m,sen)\n",
    "\n",
    "padding_size = m\n",
    "\n",
    "print('padding')\n",
    "\n",
    "x2 = []\n",
    "\n",
    "for i in x:\n",
    "  \n",
    "  \n",
    "  if len(i) < padding_size:\n",
    "      \n",
    "      for j in range(padding_size - len(i)):\n",
    "        \n",
    "        i.append('0')\n",
    "        \n",
    " "
   ]
  },
  {
   "cell_type": "markdown",
   "metadata": {
    "colab_type": "text",
    "id": "NK-Vk2eCXPM7"
   },
   "source": [
    "#Embedings"
   ]
  },
  {
   "cell_type": "code",
   "execution_count": 0,
   "metadata": {
    "colab": {
     "base_uri": "https://localhost:8080/",
     "height": 71
    },
    "colab_type": "code",
    "id": "eE6pdJpwXOQO",
    "outputId": "ce20909c-980b-4cb9-a8a1-04f7863b6daa"
   },
   "outputs": [
    {
     "name": "stderr",
     "output_type": "stream",
     "text": [
      "/usr/local/lib/python3.6/dist-packages/smart_open/ssh.py:34: UserWarning: paramiko missing, opening SSH/SCP/SFTP paths will be disabled.  `pip install paramiko` to suppress\n",
      "  warnings.warn('paramiko missing, opening SSH/SCP/SFTP paths will be disabled.  `pip install paramiko` to suppress')\n"
     ]
    }
   ],
   "source": [
    "from gensim import corpora,models,similarities\n"
   ]
  },
  {
   "cell_type": "code",
   "execution_count": 0,
   "metadata": {
    "colab": {},
    "colab_type": "code",
    "id": "AWCkPzBj6_WK"
   },
   "outputs": [],
   "source": [
    "model_g = models.Word2Vec(x,min_count = 1,size = 300)"
   ]
  },
  {
   "cell_type": "code",
   "execution_count": 0,
   "metadata": {
    "colab": {
     "base_uri": "https://localhost:8080/",
     "height": 292
    },
    "colab_type": "code",
    "id": "ZSmGEXp97Ozy",
    "outputId": "29430b66-58db-4020-8691-0c2cadafa2d9"
   },
   "outputs": [
    {
     "name": "stdout",
     "output_type": "stream",
     "text": [
      "store\n"
     ]
    },
    {
     "name": "stderr",
     "output_type": "stream",
     "text": [
      "/usr/local/lib/python3.6/dist-packages/ipykernel_launcher.py:2: DeprecationWarning: Call to deprecated `most_similar` (Method will be removed in 4.0.0, use self.wv.most_similar() instead).\n",
      "  \n",
      "/usr/local/lib/python3.6/dist-packages/gensim/matutils.py:737: FutureWarning: Conversion of the second argument of issubdtype from `int` to `np.signedinteger` is deprecated. In future, it will be treated as `np.int64 == np.dtype(int).type`.\n",
      "  if np.issubdtype(vec.dtype, np.int):\n"
     ]
    },
    {
     "data": {
      "text/plain": [
       "[('hope', 0.9993831515312195),\n",
       " ('totally', 0.9991444945335388),\n",
       " ('restaurant', 0.9990803599357605),\n",
       " ('free', 0.9990619421005249),\n",
       " ('still', 0.9989666938781738),\n",
       " ('mall', 0.9988510608673096),\n",
       " ('left', 0.9988348484039307),\n",
       " ('food', 0.9988080263137817),\n",
       " ('california', 0.9987903833389282),\n",
       " ('god', 0.9987727999687195)]"
      ]
     },
     "execution_count": 24,
     "metadata": {
      "tags": []
     },
     "output_type": "execute_result"
    }
   ],
   "source": [
    "#embedding for word \n",
    "print(x[0][2])\n",
    "model_g.most_similar(x[0][2])  \n",
    "\n"
   ]
  },
  {
   "cell_type": "markdown",
   "metadata": {
    "colab_type": "text",
    "id": "U88eIqOH8pNS"
   },
   "source": [
    "#Encod"
   ]
  },
  {
   "cell_type": "code",
   "execution_count": 0,
   "metadata": {
    "colab": {},
    "colab_type": "code",
    "id": "WBWD3xEi8ocV"
   },
   "outputs": [],
   "source": []
  },
  {
   "cell_type": "code",
   "execution_count": 0,
   "metadata": {
    "colab": {
     "base_uri": "https://localhost:8080/",
     "height": 275
    },
    "colab_type": "code",
    "id": "e3WPpaPC7_7o",
    "outputId": "cb11c17e-5dc7-4a2f-8e32-b86c876b9441"
   },
   "outputs": [
    {
     "name": "stderr",
     "output_type": "stream",
     "text": [
      "/usr/local/lib/python3.6/dist-packages/ipykernel_launcher.py:1: DeprecationWarning: Call to deprecated `similar_by_word` (Method will be removed in 4.0.0, use self.wv.similar_by_word() instead).\n",
      "  \"\"\"Entry point for launching an IPython kernel.\n",
      "/usr/local/lib/python3.6/dist-packages/gensim/matutils.py:737: FutureWarning: Conversion of the second argument of issubdtype from `int` to `np.signedinteger` is deprecated. In future, it will be treated as `np.int64 == np.dtype(int).type`.\n",
      "  if np.issubdtype(vec.dtype, np.int):\n"
     ]
    },
    {
     "data": {
      "text/plain": [
       "[('nearly', 0.9993244409561157),\n",
       " ('david', 0.9992198944091797),\n",
       " ('protesters', 0.9992049932479858),\n",
       " ('board', 0.9991206526756287),\n",
       " ('group', 0.9991177320480347),\n",
       " ('leader', 0.9990381002426147),\n",
       " ('male', 0.999008297920227),\n",
       " ('alert', 0.998997688293457),\n",
       " ('showing', 0.9989637136459351),\n",
       " ('single', 0.9989575147628784)]"
      ]
     },
     "execution_count": 33,
     "metadata": {
      "tags": []
     },
     "output_type": "execute_result"
    }
   ],
   "source": []
  },
  {
   "cell_type": "code",
   "execution_count": 0,
   "metadata": {
    "colab": {},
    "colab_type": "code",
    "id": "KPEuIeTMWuUp"
   },
   "outputs": [],
   "source": [
    "\n",
    "from keras.layers import Dense,LSTM,Embedding    \n",
    "from keras.models import Sequential   \n",
    "import numpy as np\n",
    "from sklearn.model_selection import train_test_split\n",
    "\n",
    "model = Sequential()\n",
    "model.add(Embedding(50,64,input_length = 39))\n",
    "model.add(LSTM(1,kernel_initializer = 'glorot_normal',\n",
    "               recurrent_initializer = 'glorot_normal',activation = 'sigmoid'))\n",
    "\n",
    "model.compile(loss = 'binary_crossentropy' , optimizer = 'adam', metrics = ['accuracy'])\n",
    "\n",
    "\n"
   ]
  },
  {
   "cell_type": "code",
   "execution_count": 0,
   "metadata": {
    "colab": {
     "base_uri": "https://localhost:8080/",
     "height": 204
    },
    "colab_type": "code",
    "id": "ojVSOHqmXDbp",
    "outputId": "0b0f3fd1-964d-4418-d4cc-429ea5af6b24"
   },
   "outputs": [
    {
     "name": "stdout",
     "output_type": "stream",
     "text": [
      "_________________________________________________________________\n",
      "Layer (type)                 Output Shape              Param #   \n",
      "=================================================================\n",
      "embedding_1 (Embedding)      (None, 39, 64)            64000     \n",
      "_________________________________________________________________\n",
      "lstm_4 (LSTM)                (None, 1)                 264       \n",
      "=================================================================\n",
      "Total params: 64,264\n",
      "Trainable params: 64,264\n",
      "Non-trainable params: 0\n",
      "_________________________________________________________________\n"
     ]
    }
   ],
   "source": [
    "model.summary()"
   ]
  },
  {
   "cell_type": "code",
   "execution_count": 0,
   "metadata": {
    "colab": {
     "base_uri": "https://localhost:8080/",
     "height": 34
    },
    "colab_type": "code",
    "id": "xlPe6IwkiCza",
    "outputId": "a6a844bd-8ce2-4023-b198-8648d60b8b4f"
   },
   "outputs": [
    {
     "data": {
      "text/plain": [
       "(None, 39)"
      ]
     },
     "execution_count": 135,
     "metadata": {
      "tags": []
     },
     "output_type": "execute_result"
    }
   ],
   "source": [
    "model.get_input_shape_at(0)"
   ]
  },
  {
   "cell_type": "code",
   "execution_count": 0,
   "metadata": {
    "colab": {
     "base_uri": "https://localhost:8080/",
     "height": 68
    },
    "colab_type": "code",
    "id": "Ho2FS0hDZayE",
    "outputId": "c821fca0-cc32-4e37-8e99-0b6040e2d03e"
   },
   "outputs": [
    {
     "name": "stdout",
     "output_type": "stream",
     "text": [
      "Epoch 1/1\n",
      "21367/21367 [==============================] - 16s 731us/step - loss: 0.6874 - acc: 0.5593\n"
     ]
    },
    {
     "data": {
      "text/plain": [
       "<keras.callbacks.History at 0x7f85a176d940>"
      ]
     },
     "execution_count": 152,
     "metadata": {
      "tags": []
     },
     "output_type": "execute_result"
    }
   ],
   "source": [
    "model.fit(x = train_data,y = train_label)"
   ]
  },
  {
   "cell_type": "markdown",
   "metadata": {
    "colab_type": "text",
    "id": "1GqnOPaVq33b"
   },
   "source": [
    "##SELECTING EMBEDDING MODEL FROM HUB"
   ]
  },
  {
   "cell_type": "markdown",
   "metadata": {
    "colab_type": "text",
    "id": "7J0Ea7W9rFV6"
   },
   "source": [
    "#https://tfhub.dev/google/nnlm-en-dim128/1"
   ]
  },
  {
   "cell_type": "code",
   "execution_count": 0,
   "metadata": {
    "colab": {},
    "colab_type": "code",
    "id": "6u9vPiAGrT3h"
   },
   "outputs": [],
   "source": [
    "import time\n",
    "\n",
    "def sess(embeddings): \n",
    "  s = time.time()\n",
    "  with tf.Session() as sess:\n",
    "      sess.run(tf.global_variables_initializer())\n",
    "      sess.run(tf.tables_initializer())\n",
    "\n",
    "      ress =sess.run(embeddings)\n",
    "  print(time.time() - s)  "
   ]
  },
  {
   "cell_type": "code",
   "execution_count": 0,
   "metadata": {
    "colab": {
     "base_uri": "https://localhost:8080/",
     "height": 51
    },
    "colab_type": "code",
    "id": "Zu6vu_3jn_tT",
    "outputId": "48ed3e87-4571-4587-ebe7-79852fd74090"
   },
   "outputs": [
    {
     "name": "stdout",
     "output_type": "stream",
     "text": [
      "INFO:tensorflow:Saver not created because there are no variables in the graph to restore\n"
     ]
    },
    {
     "name": "stderr",
     "output_type": "stream",
     "text": [
      "I0426 17:21:32.276868 140154410268544 saver.py:1483] Saver not created because there are no variables in the graph to restore\n"
     ]
    }
   ],
   "source": [
    "# !pip install \"tensorflow_hub==0.4.0\"\n",
    "# !pip install \"tf-nightly\"\n",
    "import tensorflow as tf\n",
    "import tensorflow_hub as hub\n",
    "\n",
    "embed = hub.Module(\"https://tfhub.dev/google/nnlm-en-dim128/1\")\n",
    "embeddings = embed([\"cat dad  ds das d a d \", \"dog  da sd asd asdas d as d\"])"
   ]
  },
  {
   "cell_type": "code",
   "execution_count": 0,
   "metadata": {
    "colab": {
     "base_uri": "https://localhost:8080/",
     "height": 34
    },
    "colab_type": "code",
    "id": "r2k40RUlolxd",
    "outputId": "2e874d16-5442-4208-e9f6-a5d4e5c929da"
   },
   "outputs": [
    {
     "name": "stdout",
     "output_type": "stream",
     "text": [
      "1.9271552562713623\n"
     ]
    }
   ],
   "source": [
    "sess(embeddings)"
   ]
  },
  {
   "cell_type": "code",
   "execution_count": 0,
   "metadata": {
    "colab": {
     "base_uri": "https://localhost:8080/",
     "height": 34
    },
    "colab_type": "code",
    "id": "09yF-NwTqwh4",
    "outputId": "affca499-ee6e-46cd-a6b4-06f2fe15c793"
   },
   "outputs": [
    {
     "data": {
      "text/plain": [
       "(2, 128)"
      ]
     },
     "execution_count": 7,
     "metadata": {
      "tags": []
     },
     "output_type": "execute_result"
    }
   ],
   "source": [
    "ress.shape"
   ]
  },
  {
   "cell_type": "code",
   "execution_count": 0,
   "metadata": {
    "colab": {
     "base_uri": "https://localhost:8080/",
     "height": 51
    },
    "colab_type": "code",
    "id": "KByA3lTkrKEe",
    "outputId": "34603a79-f56a-412e-da5d-303576d2ed16"
   },
   "outputs": [
    {
     "name": "stdout",
     "output_type": "stream",
     "text": [
      "INFO:tensorflow:Saver not created because there are no variables in the graph to restore\n"
     ]
    },
    {
     "name": "stderr",
     "output_type": "stream",
     "text": [
      "I0426 17:25:41.617915 140154410268544 saver.py:1483] Saver not created because there are no variables in the graph to restore\n"
     ]
    }
   ],
   "source": [
    "elmo = hub.Module(\"https://tfhub.dev/google/elmo/2\", trainable=True)\n",
    "tokens_input = [[\"the\", \"cat\", \"is\", \"on\", \"the\", \"mat\"],\n",
    "                [\"dogs\", \"are\", \"in\", \"the\", \"fog\", \"\"]]\n",
    "tokens_length = [6, 5]\n",
    "embeddings = elmo(\n",
    "    inputs={\n",
    "        \"tokens\": tokens_input,\n",
    "        \"sequence_len\": tokens_length\n",
    "    },\n",
    "    signature=\"tokens\",\n",
    "    as_dict=True)[\"elmo\"]"
   ]
  },
  {
   "cell_type": "code",
   "execution_count": 0,
   "metadata": {
    "colab": {
     "base_uri": "https://localhost:8080/",
     "height": 34
    },
    "colab_type": "code",
    "id": "Z6WvM8Kvrmc-",
    "outputId": "5dc4e71c-382b-4750-9e2d-e0aac9d6f14a"
   },
   "outputs": [
    {
     "name": "stdout",
     "output_type": "stream",
     "text": [
      "4.031406402587891\n"
     ]
    }
   ],
   "source": [
    "sess(embeddings)"
   ]
  },
  {
   "cell_type": "code",
   "execution_count": 0,
   "metadata": {
    "colab": {
     "base_uri": "https://localhost:8080/",
     "height": 68
    },
    "colab_type": "code",
    "id": "x4qWJPw2rvxq",
    "outputId": "d3bf941a-65b0-4772-b4ce-f5eab4edb65e"
   },
   "outputs": [
    {
     "name": "stdout",
     "output_type": "stream",
     "text": [
      "INFO:tensorflow:Saver not created because there are no variables in the graph to restore\n"
     ]
    },
    {
     "name": "stderr",
     "output_type": "stream",
     "text": [
      "I0426 17:26:32.146115 140154410268544 saver.py:1483] Saver not created because there are no variables in the graph to restore\n"
     ]
    },
    {
     "name": "stdout",
     "output_type": "stream",
     "text": [
      "3.9208099842071533\n"
     ]
    }
   ],
   "source": [
    "elmo = hub.Module(\"https://tfhub.dev/google/elmo/2\", trainable=True)\n",
    "embeddings = elmo(\n",
    "    [\"the cat is on the mat\", \"dogs are in the fog\"],\n",
    "    signature=\"default\",\n",
    "    as_dict=True)[\"elmo\"]\n",
    "sess(embeddings)"
   ]
  },
  {
   "cell_type": "code",
   "execution_count": 0,
   "metadata": {
    "colab": {
     "base_uri": "https://localhost:8080/",
     "height": 68
    },
    "colab_type": "code",
    "id": "3dNfGGUer76u",
    "outputId": "46a2edbe-7f02-46c7-f881-1e5f4397136d"
   },
   "outputs": [
    {
     "name": "stdout",
     "output_type": "stream",
     "text": [
      "INFO:tensorflow:Saver not created because there are no variables in the graph to restore\n"
     ]
    },
    {
     "name": "stderr",
     "output_type": "stream",
     "text": [
      "I0426 17:27:36.526976 140154410268544 saver.py:1483] Saver not created because there are no variables in the graph to restore\n"
     ]
    },
    {
     "name": "stdout",
     "output_type": "stream",
     "text": [
      "4.226448059082031\n"
     ]
    }
   ],
   "source": [
    "embed = hub.Module(\"https://tfhub.dev/google/nnlm-en-dim128-with-normalization/1\")\n",
    "embeddings = embed([\"cat is on the mat\", \"dog is in the fog\"])\n",
    "\n",
    "sess(embeddings)"
   ]
  },
  {
   "cell_type": "code",
   "execution_count": 0,
   "metadata": {
    "colab": {
     "base_uri": "https://localhost:8080/",
     "height": 68
    },
    "colab_type": "code",
    "id": "E7Nf2r4FsTU2",
    "outputId": "61a88e8c-53ee-4d30-8390-f092cb207d9a"
   },
   "outputs": [
    {
     "name": "stdout",
     "output_type": "stream",
     "text": [
      "INFO:tensorflow:Saver not created because there are no variables in the graph to restore\n"
     ]
    },
    {
     "name": "stderr",
     "output_type": "stream",
     "text": [
      "I0426 17:29:11.036698 140154410268544 saver.py:1483] Saver not created because there are no variables in the graph to restore\n"
     ]
    },
    {
     "name": "stdout",
     "output_type": "stream",
     "text": [
      "5.5092973709106445\n"
     ]
    }
   ],
   "source": [
    "embed = hub.Module(\"https://tfhub.dev/google/Wiki-words-250/1\")\n",
    "embeddings = embed([\"cat is on the mat\", \"dog is in the fog\"])\n",
    "\n",
    "\n",
    "\n",
    "sess(embeddings)"
   ]
  },
  {
   "cell_type": "code",
   "execution_count": 0,
   "metadata": {
    "colab": {},
    "colab_type": "code",
    "id": "6zs5uLb1sbqe"
   },
   "outputs": [],
   "source": []
  },
  {
   "cell_type": "markdown",
   "metadata": {
    "colab_type": "text",
    "id": "jLW0JUEnsb3E"
   },
   "source": [
    "#going with https://tfhub.dev/google/nnlm-en-dim128/1\""
   ]
  },
  {
   "cell_type": "code",
   "execution_count": 0,
   "metadata": {
    "colab": {
     "base_uri": "https://localhost:8080/",
     "height": 71
    },
    "colab_type": "code",
    "id": "pV2y_l4MsZuw",
    "outputId": "a14506e5-692e-48ef-8d68-0bf53ae77eff"
   },
   "outputs": [
    {
     "name": "stdout",
     "output_type": "stream",
     "text": [
      "INFO:tensorflow:Saver not created because there are no variables in the graph to restore\n"
     ]
    },
    {
     "name": "stderr",
     "output_type": "stream",
     "text": [
      "I0426 17:30:24.948648 140154410268544 saver.py:1483] Saver not created because there are no variables in the graph to restore\n"
     ]
    }
   ],
   "source": [
    "# !pip install \"tensorflow_hub==0.4.0\"\n",
    "# !pip install \"tf-nightly\"\n",
    "\n",
    "embed = hub.Module(\"https://tfhub.dev/google/nnlm-en-dim128/1\")\n",
    "embeddings = embed([\"cat dad  ds das d a d \", \"dog  da sd asd asdas d as d\"])"
   ]
  },
  {
   "cell_type": "code",
   "execution_count": 0,
   "metadata": {
    "colab": {},
    "colab_type": "code",
    "id": "6TLeFpeOsssL"
   },
   "outputs": [],
   "source": [
    "import time\n",
    "\n",
    "emb = []\n",
    "\n",
    "s = time.time()\n",
    "with tf.Graph().as_default():\n",
    "  embed = hub.Module(\"https://tfhub.dev/google/nnlm-en-dim128/1\")\n",
    "  messages = tf.placeholder(dtype=tf.string, shape=[None])\n",
    "\n",
    "  with tf.Session() as sess:\n",
    "    sess.run(tf.global_variables_initializer())\n",
    "    sess.run(tf.tables_initializer())\n",
    "    \n",
    "    sent = embed(messages)\n",
    "        \n",
    "    w =  0\n",
    "    for i in train_data:\n",
    "        w +=1\n",
    "#         print('counter',w)\n",
    "        \n",
    "        \n",
    "        \n",
    "        emb.append(sess.run(sent,feed_dict = {messages:[i]}))\n",
    "        \n",
    "        \n",
    "        \n",
    "print(time.time() - s)  "
   ]
  },
  {
   "cell_type": "code",
   "execution_count": 0,
   "metadata": {
    "colab": {
     "base_uri": "https://localhost:8080/",
     "height": 34
    },
    "colab_type": "code",
    "id": "ryuiV5gqtgTs",
    "outputId": "7fbab235-189b-4474-9e85-e28318e10ca0"
   },
   "outputs": [
    {
     "data": {
      "text/plain": [
       "(1, 128)"
      ]
     },
     "execution_count": 37,
     "metadata": {
      "tags": []
     },
     "output_type": "execute_result"
    }
   ],
   "source": [
    "emb[0].shape"
   ]
  },
  {
   "cell_type": "code",
   "execution_count": 0,
   "metadata": {
    "colab": {
     "base_uri": "https://localhost:8080/",
     "height": 34
    },
    "colab_type": "code",
    "id": "fYH5yZH0z819",
    "outputId": "fcaff697-22d0-4bf7-9e87-725eb0a01e1b"
   },
   "outputs": [
    {
     "name": "stdout",
     "output_type": "stream",
     "text": [
      "(21367, 1, 128)\n"
     ]
    }
   ],
   "source": [
    "train_data = np.array(emb)\n",
    "print(train_data.shape)"
   ]
  },
  {
   "cell_type": "code",
   "execution_count": 0,
   "metadata": {
    "colab": {},
    "colab_type": "code",
    "id": "osRnSKq60S5a"
   },
   "outputs": [],
   "source": [
    "\n",
    "from keras.layers import Dense,LSTM,Embedding    \n",
    "from keras.models import Sequential   \n",
    "import numpy as np\n",
    "from sklearn.model_selection import train_test_split\n",
    "\n",
    "model = Sequential()\n",
    "model.add(LSTM(64,input_shape = (1,128),return_sequences = True,kernel_initializer = 'glorot_normal',\n",
    "               recurrent_initializer = 'glorot_normal',activation = 'relu'))\n",
    "model.add(LSTM(128,kernel_initializer = 'glorot_normal',return_sequences = True,\n",
    "               recurrent_initializer = 'glorot_normal',activation = 'relu'))\n",
    "model.add(LSTM(1,kernel_initializer = 'glorot_normal',\n",
    "               recurrent_initializer = 'glorot_normal',activation = 'sigmoid'))\n",
    "\n",
    "model.compile(loss = 'binary_crossentropy' , optimizer = 'adam', metrics = ['accuracy'])\n",
    "\n",
    "\n"
   ]
  },
  {
   "cell_type": "code",
   "execution_count": 0,
   "metadata": {
    "colab": {},
    "colab_type": "code",
    "id": "X1zmiqRv17c7"
   },
   "outputs": [],
   "source": [
    "model.fit?"
   ]
  },
  {
   "cell_type": "code",
   "execution_count": 0,
   "metadata": {
    "colab": {
     "base_uri": "https://localhost:8080/",
     "height": 374
    },
    "colab_type": "code",
    "id": "EjMP2IpW0il5",
    "outputId": "841333af-9641-4517-e888-b73736817a93"
   },
   "outputs": [
    {
     "name": "stdout",
     "output_type": "stream",
     "text": [
      "Epoch 1/10\n",
      "21367/21367 [==============================] - 49s 2ms/step - loss: 0.5183 - acc: 0.7631\n",
      "Epoch 2/10\n",
      "21367/21367 [==============================] - 7s 331us/step - loss: 0.4708 - acc: 0.7954\n",
      "Epoch 3/10\n",
      "21367/21367 [==============================] - 7s 336us/step - loss: 0.4624 - acc: 0.8012\n",
      "Epoch 4/10\n",
      "21367/21367 [==============================] - 7s 343us/step - loss: 0.4574 - acc: 0.8038\n",
      "Epoch 5/10\n",
      "21367/21367 [==============================] - 7s 332us/step - loss: 0.4552 - acc: 0.8060\n",
      "Epoch 6/10\n",
      "21367/21367 [==============================] - 7s 333us/step - loss: 0.4455 - acc: 0.8132\n",
      "Epoch 7/10\n",
      "21367/21367 [==============================] - 7s 330us/step - loss: 0.4382 - acc: 0.8192\n",
      "Epoch 8/10\n",
      "21367/21367 [==============================] - 7s 333us/step - loss: 0.4275 - acc: 0.8264\n",
      "Epoch 9/10\n",
      "21367/21367 [==============================] - 7s 323us/step - loss: 0.4180 - acc: 0.8355\n",
      "Epoch 10/10\n",
      "21367/21367 [==============================] - 7s 320us/step - loss: 0.4176 - acc: 0.8360\n"
     ]
    },
    {
     "data": {
      "text/plain": [
       "<keras.callbacks.History at 0x7f77a6f702e8>"
      ]
     },
     "execution_count": 52,
     "metadata": {
      "tags": []
     },
     "output_type": "execute_result"
    }
   ],
   "source": [
    "model.fit(x = train_data,y = train_label,epochs = 10,batch_size = 24)"
   ]
  },
  {
   "cell_type": "code",
   "execution_count": 0,
   "metadata": {
    "colab": {},
    "colab_type": "code",
    "id": "o1VEyvsM2pSo"
   },
   "outputs": [],
   "source": [
    "for i in range(100):\n",
    "  \n",
    "  \n",
    "  print(model.predict(np.expand_dims(train_data[i],axis = 0)))"
   ]
  },
  {
   "cell_type": "code",
   "execution_count": 0,
   "metadata": {
    "colab": {},
    "colab_type": "code",
    "id": "CM5ihk37kvPp"
   },
   "outputs": [],
   "source": []
  },
  {
   "cell_type": "markdown",
   "metadata": {
    "colab_type": "text",
    "id": "uTmnk53ykvdd"
   },
   "source": [
    "#EMBEDDING 2 (word2Vec)"
   ]
  },
  {
   "cell_type": "code",
   "execution_count": 0,
   "metadata": {
    "colab": {
     "base_uri": "https://localhost:8080/",
     "height": 105
    },
    "colab_type": "code",
    "id": "dXtUeuONknwZ",
    "outputId": "8e0876d2-ca01-4326-9e84-f666bf030eb5"
   },
   "outputs": [
    {
     "name": "stderr",
     "output_type": "stream",
     "text": [
      "W0427 02:17:50.735309 139717700630400 deprecation.py:323] From /usr/local/lib/python3.6/dist-packages/tensorflow/python/ops/control_flow_ops.py:3632: colocate_with (from tensorflow.python.framework.ops) is deprecated and will be removed in a future version.\n",
      "Instructions for updating:\n",
      "Colocations handled automatically by placer.\n"
     ]
    },
    {
     "name": "stdout",
     "output_type": "stream",
     "text": [
      "26.76400876045227\n"
     ]
    }
   ],
   "source": [
    "import time\n",
    "\n",
    "emb = []\n",
    "\n",
    "s = time.time()\n",
    "with tf.Graph().as_default():\n",
    "  embed = hub.Module(\"https://tfhub.dev/google/Wiki-words-250/1\")\n",
    "  messages = tf.placeholder(dtype=tf.string, shape=[None])\n",
    "\n",
    "  with tf.Session() as sess:\n",
    "    sess.run(tf.global_variables_initializer())\n",
    "    sess.run(tf.tables_initializer())\n",
    "    \n",
    "    sent = embed(messages)\n",
    "        \n",
    "    w =  0\n",
    "    for i in train_data:\n",
    "        w +=1\n",
    "#         print('counter',w)\n",
    "        \n",
    "        \n",
    "        \n",
    "        emb.append(sess.run(sent,feed_dict = {messages:[i]}))\n",
    "        \n",
    "        \n",
    "        \n",
    "print(time.time() - s)  \n",
    "\n",
    "\n"
   ]
  },
  {
   "cell_type": "code",
   "execution_count": 0,
   "metadata": {
    "colab": {
     "base_uri": "https://localhost:8080/",
     "height": 34
    },
    "colab_type": "code",
    "id": "k9MHGuvnlpIk",
    "outputId": "28e2f12a-10f3-4f42-9ca3-2683724d229d"
   },
   "outputs": [
    {
     "name": "stdout",
     "output_type": "stream",
     "text": [
      "(21367, 1, 250)\n"
     ]
    }
   ],
   "source": [
    "train_data = np.array(emb)\n",
    "print(train_data.shape)"
   ]
  },
  {
   "cell_type": "code",
   "execution_count": 0,
   "metadata": {
    "colab": {},
    "colab_type": "code",
    "id": "8cH1Ik2tlXl6"
   },
   "outputs": [],
   "source": [
    "\n",
    "from keras.layers import Dense,LSTM,Embedding    \n",
    "from keras.models import Sequential   \n",
    "import numpy as np\n",
    "from sklearn.model_selection import train_test_split\n",
    "\n",
    "model = Sequential()\n",
    "model.add(LSTM(64,input_shape = (1,250),return_sequences = True,kernel_initializer = 'glorot_normal',\n",
    "               recurrent_initializer = 'glorot_normal',activation = 'relu'))\n",
    "model.add(LSTM(128,kernel_initializer = 'glorot_normal',return_sequences = True,\n",
    "               recurrent_initializer = 'glorot_normal',activation = 'relu'))\n",
    "model.add(LSTM(1,kernel_initializer = 'glorot_normal',\n",
    "               recurrent_initializer = 'glorot_normal',activation = 'sigmoid'))\n",
    "\n",
    "model.compile(loss = 'binary_crossentropy' , optimizer = 'adam', metrics = ['accuracy'])\n",
    "\n",
    "\n"
   ]
  },
  {
   "cell_type": "code",
   "execution_count": 0,
   "metadata": {
    "colab": {
     "base_uri": "https://localhost:8080/",
     "height": 445
    },
    "colab_type": "code",
    "id": "A0V1NkgklcbY",
    "outputId": "65ebd6bc-2d4c-46fd-a198-7f588097ab43"
   },
   "outputs": [
    {
     "name": "stderr",
     "output_type": "stream",
     "text": [
      "W0427 02:19:40.597457 139717700630400 deprecation.py:323] From /usr/local/lib/python3.6/dist-packages/tensorflow/python/ops/math_ops.py:3066: to_int32 (from tensorflow.python.ops.math_ops) is deprecated and will be removed in a future version.\n",
      "Instructions for updating:\n",
      "Use tf.cast instead.\n"
     ]
    },
    {
     "name": "stdout",
     "output_type": "stream",
     "text": [
      "Epoch 1/10\n",
      "21367/21367 [==============================] - 15s 682us/step - loss: 0.5891 - acc: 0.6963\n",
      "Epoch 2/10\n",
      "21367/21367 [==============================] - 12s 554us/step - loss: 0.5354 - acc: 0.7467\n",
      "Epoch 3/10\n",
      "21367/21367 [==============================] - 12s 549us/step - loss: 0.5226 - acc: 0.7573\n",
      "Epoch 4/10\n",
      "21367/21367 [==============================] - 12s 544us/step - loss: 0.5044 - acc: 0.7695\n",
      "Epoch 5/10\n",
      "21367/21367 [==============================] - 12s 548us/step - loss: 0.4980 - acc: 0.7744\n",
      "Epoch 6/10\n",
      "21367/21367 [==============================] - 12s 548us/step - loss: 0.4897 - acc: 0.7810\n",
      "Epoch 7/10\n",
      "21367/21367 [==============================] - 12s 551us/step - loss: 0.4785 - acc: 0.7907\n",
      "Epoch 8/10\n",
      "21367/21367 [==============================] - 12s 551us/step - loss: 0.4710 - acc: 0.7928\n",
      "Epoch 9/10\n",
      "21367/21367 [==============================] - 12s 545us/step - loss: 0.4703 - acc: 0.7954\n",
      "Epoch 10/10\n",
      "21367/21367 [==============================] - 12s 543us/step - loss: 0.4592 - acc: 0.8027\n"
     ]
    },
    {
     "data": {
      "text/plain": [
       "<keras.callbacks.History at 0x7f124dc2bdd8>"
      ]
     },
     "execution_count": 14,
     "metadata": {
      "tags": []
     },
     "output_type": "execute_result"
    }
   ],
   "source": [
    "model.fit(x = train_data,y = train_label,epochs = 10,batch_size = 24)\n"
   ]
  },
  {
   "cell_type": "code",
   "execution_count": 0,
   "metadata": {
    "colab": {},
    "colab_type": "code",
    "id": "9WN4R1Uxlfcl"
   },
   "outputs": [],
   "source": [
    "for i in range(100):\n",
    "  \n",
    "  \n",
    "  print(np.round(model.predict(np.expand_dims(train_data[i],axis = 0))))"
   ]
  },
  {
   "cell_type": "code",
   "execution_count": 0,
   "metadata": {
    "colab": {
     "base_uri": "https://localhost:8080/",
     "height": 51
    },
    "colab_type": "code",
    "id": "5DUgZBx_miZM",
    "outputId": "488761bf-054a-426d-94bd-14f30fbe4c13"
   },
   "outputs": [
    {
     "name": "stdout",
     "output_type": "stream",
     "text": [
      "21367/21367 [==============================] - 3s 122us/step\n"
     ]
    },
    {
     "data": {
      "text/plain": [
       "[0.4470132531610153, 0.8115318013564267]"
      ]
     },
     "execution_count": 18,
     "metadata": {
      "tags": []
     },
     "output_type": "execute_result"
    }
   ],
   "source": [
    "model.evaluate(train_data,train_label)"
   ]
  },
  {
   "cell_type": "markdown",
   "metadata": {
    "colab_type": "text",
    "id": "3iH5ahNRmyUc"
   },
   "source": [
    "#using Universal sentence encoder"
   ]
  },
  {
   "cell_type": "code",
   "execution_count": 0,
   "metadata": {
    "colab": {
     "base_uri": "https://localhost:8080/",
     "height": 68
    },
    "colab_type": "code",
    "id": "TBSH88vnn22z",
    "outputId": "1640c81a-0f2c-4462-f62e-519fde1706d8"
   },
   "outputs": [
    {
     "name": "stdout",
     "output_type": "stream",
     "text": [
      "getting traning and testing data\n",
      "(21367,) 21367.2\n",
      "(5342,) 5341.8\n"
     ]
    }
   ],
   "source": [
    "print('getting traning and testing data')\n",
    "\n",
    "length = data['is_sarcastic'].shape[0]\n",
    "\n",
    "train_data = data['headline'][0:int(length*0.8)].values\n",
    "\n",
    "test_data = data['headline'][int(length*0.8):].values\n",
    "\n",
    "print(train_data.shape , length * 0.8)\n",
    "print(test_data.shape,length * 0.2)\n",
    "\n",
    "train_label = data['is_sarcastic'][0:int(length*0.8)].values\n",
    "test_label = data['is_sarcastic'][int(length * 0.8):].values"
   ]
  },
  {
   "cell_type": "code",
   "execution_count": 0,
   "metadata": {
    "colab": {
     "base_uri": "https://localhost:8080/",
     "height": 34
    },
    "colab_type": "code",
    "id": "Vz_vABBLm3xx",
    "outputId": "abf314d0-faa9-47f0-c0dd-7af7a448b99d"
   },
   "outputs": [
    {
     "name": "stdout",
     "output_type": "stream",
     "text": [
      "57.517850160598755\n"
     ]
    }
   ],
   "source": [
    "import time\n",
    "\n",
    "emb = []\n",
    "\n",
    "s = time.time()\n",
    "with tf.Graph().as_default():\n",
    "  embed = hub.Module(\"https://tfhub.dev/google/universal-sentence-encoder/2\")\n",
    "  messages = tf.placeholder(dtype=tf.string, shape=[None])\n",
    "\n",
    "  with tf.Session() as sess:\n",
    "    sess.run(tf.global_variables_initializer())\n",
    "    sess.run(tf.tables_initializer())\n",
    "    \n",
    "    sent = embed(messages)\n",
    "        \n",
    "    w =  0\n",
    "    for i in train_data:\n",
    "        w +=1\n",
    "#         print('counter',w)\n",
    "        \n",
    "        \n",
    "        \n",
    "        emb.append(sess.run(sent,feed_dict = {messages:[i]}))\n",
    "        \n",
    "        \n",
    "        \n",
    "print(time.time() - s)  \n"
   ]
  },
  {
   "cell_type": "code",
   "execution_count": 0,
   "metadata": {
    "colab": {
     "base_uri": "https://localhost:8080/",
     "height": 34
    },
    "colab_type": "code",
    "id": "EM5Z63JLnVnb",
    "outputId": "ecefed49-6747-4a43-a25b-644eb827a72a"
   },
   "outputs": [
    {
     "name": "stdout",
     "output_type": "stream",
     "text": [
      "(21367, 1, 512)\n"
     ]
    }
   ],
   "source": [
    "train_data = np.array(emb)\n",
    "print(train_data.shape)"
   ]
  },
  {
   "cell_type": "code",
   "execution_count": 0,
   "metadata": {
    "colab": {},
    "colab_type": "code",
    "id": "rQlXw8pvoNY8"
   },
   "outputs": [],
   "source": [
    "\n",
    "from keras.layers import Dense,LSTM,Embedding    \n",
    "from keras.models import Sequential   \n",
    "import numpy as np\n",
    "from sklearn.model_selection import train_test_split\n",
    "\n",
    "model = Sequential()\n",
    "model.add(LSTM(64,input_shape = (1,512),return_sequences = True,kernel_initializer = 'glorot_normal',\n",
    "               recurrent_initializer = 'glorot_normal',activation = 'relu'))\n",
    "model.add(LSTM(128,kernel_initializer = 'glorot_normal',return_sequences = True,\n",
    "               recurrent_initializer = 'glorot_normal',activation = 'relu'))\n",
    "model.add(LSTM(1,kernel_initializer = 'glorot_normal',\n",
    "               recurrent_initializer = 'glorot_normal',activation = 'sigmoid'))\n",
    "\n",
    "model.compile(loss = 'binary_crossentropy' , optimizer = 'adam', metrics = ['accuracy'])\n",
    "\n"
   ]
  },
  {
   "cell_type": "code",
   "execution_count": 0,
   "metadata": {
    "colab": {
     "base_uri": "https://localhost:8080/",
     "height": 374
    },
    "colab_type": "code",
    "id": "6cTNMSWDoNU1",
    "outputId": "45ed8e89-63f9-44ef-a2b0-eca0fd987db2"
   },
   "outputs": [
    {
     "name": "stdout",
     "output_type": "stream",
     "text": [
      "Epoch 1/10\n",
      "21367/21367 [==============================] - 17s 790us/step - loss: 0.5571 - acc: 0.7261\n",
      "Epoch 2/10\n",
      "21367/21367 [==============================] - 14s 646us/step - loss: 0.4933 - acc: 0.7737\n",
      "Epoch 3/10\n",
      "21367/21367 [==============================] - 14s 647us/step - loss: 0.4739 - acc: 0.7910\n",
      "Epoch 4/10\n",
      "21367/21367 [==============================] - 14s 643us/step - loss: 0.4627 - acc: 0.7998\n",
      "Epoch 5/10\n",
      "21367/21367 [==============================] - 14s 646us/step - loss: 0.4494 - acc: 0.8079\n",
      "Epoch 6/10\n",
      "21367/21367 [==============================] - 14s 643us/step - loss: 0.4394 - acc: 0.8154\n",
      "Epoch 7/10\n",
      "21367/21367 [==============================] - 14s 648us/step - loss: 0.4329 - acc: 0.8194\n",
      "Epoch 8/10\n",
      "21367/21367 [==============================] - 14s 648us/step - loss: 0.4231 - acc: 0.8280\n",
      "Epoch 9/10\n",
      "21367/21367 [==============================] - 14s 645us/step - loss: 0.4206 - acc: 0.8272\n",
      "Epoch 10/10\n",
      "21367/21367 [==============================] - 14s 645us/step - loss: 0.4110 - acc: 0.8371\n"
     ]
    },
    {
     "data": {
      "text/plain": [
       "<keras.callbacks.History at 0x7f124c4cbb38>"
      ]
     },
     "execution_count": 28,
     "metadata": {
      "tags": []
     },
     "output_type": "execute_result"
    }
   ],
   "source": [
    "model.fit(x = train_data,y = train_label,epochs = 10,batch_size = 24)"
   ]
  },
  {
   "cell_type": "code",
   "execution_count": 0,
   "metadata": {
    "colab": {},
    "colab_type": "code",
    "id": "3HETkkxaoNOL"
   },
   "outputs": [],
   "source": [
    "for i in range(100):\n",
    "  \n",
    "  \n",
    "  print(np.round(model.predict(np.expand_dims(train_data[i],axis = 0))))"
   ]
  },
  {
   "cell_type": "code",
   "execution_count": 0,
   "metadata": {
    "colab": {
     "base_uri": "https://localhost:8080/",
     "height": 51
    },
    "colab_type": "code",
    "id": "NShSev-xoNJs",
    "outputId": "98d8918a-eb41-4253-d75c-21ec73fc32a8"
   },
   "outputs": [
    {
     "name": "stdout",
     "output_type": "stream",
     "text": [
      "21367/21367 [==============================] - 3s 129us/step\n"
     ]
    },
    {
     "data": {
      "text/plain": [
       "[0.39555844720643935, 0.8479898909338123]"
      ]
     },
     "execution_count": 30,
     "metadata": {
      "tags": []
     },
     "output_type": "execute_result"
    }
   ],
   "source": [
    "model.evaluate(train_data,train_label)"
   ]
  }
 ],
 "metadata": {
  "accelerator": "TPU",
  "colab": {
   "collapsed_sections": [
    "7J0Ea7W9rFV6"
   ],
   "name": "sentimental_analysis.ipynb",
   "provenance": [],
   "toc_visible": true,
   "version": "0.3.2"
  },
  "kernelspec": {
   "display_name": "Python 3",
   "language": "python",
   "name": "python3"
  },
  "language_info": {
   "codemirror_mode": {
    "name": "ipython",
    "version": 3
   },
   "file_extension": ".py",
   "mimetype": "text/x-python",
   "name": "python",
   "nbconvert_exporter": "python",
   "pygments_lexer": "ipython3",
   "version": "3.6.7"
  }
 },
 "nbformat": 4,
 "nbformat_minor": 1
}
